{
 "cells": [
  {
   "cell_type": "code",
   "execution_count": 15,
   "metadata": {},
   "outputs": [
    {
     "data": {
      "image/png": "[encoded data removed]",
      "text/plain": [
       "<Figure size 432x288 with 1 Axes>"
      ]
     },
     "metadata": {},
     "output_type": "display_data"
    }
   ],
   "source": [
    "# part 1\n",
    "import matplotlib\n",
    "import matplotlib.pyplot as plt\n",
    "matplotlib.use('TkAgg')\n",
    "from pylab import *\n",
    "import networkx as nx\n",
    "import random as rd\n",
    "\n",
    "def initialize(n, p_e):\n",
    "    global g\n",
    "    g = nx.erdos_renyi_graph(n, p_e)\n",
    "    g.pos = nx.spring_layout(g)\n",
    "    for i in g.nodes:\n",
    "        g.nodes[i]['state'] = 1 if random() < .5 else 0\n",
    "\n",
    "def observe():\n",
    "    global g\n",
    "    cla()\n",
    "    nx.draw(g, vmin = 0, vmax = 1,\n",
    "            node_color = [g.nodes[i]['state'] for i in g.nodes],\n",
    "            pos = g.pos)\n",
    "\n",
    "def update(p_i, p_r):\n",
    "    global g\n",
    "    g_cloned = g\n",
    "    for a in (list(g_cloned.nodes)):\n",
    "        if g_cloned.nodes[a]['state'] == 0: # if susceptible\n",
    "            b = rd.choice(list(g_cloned.neighbors(a)))\n",
    "            if g_cloned.nodes[b]['state'] == 1: # if neighbor b is infected\n",
    "                g.nodes[a]['state'] = 1 if random() < p_i else 0\n",
    "        else: # if infected\n",
    "            g.nodes[a]['state'] = 0 if random() < p_r else 1\n",
    "    return g\n",
    "def dynamics(n):\n",
    "    global g\n",
    "    infected = 0\n",
    "    for a in list(g.nodes):\n",
    "        if g.nodes[a]['state'] == 1:\n",
    "            infected += 1\n",
    "    infected_rate = infected / n\n",
    "    return infected_rate\n",
    "# import pycxsimulator\n",
    "# pycxsimulatorv.GUI().start(func=[initialize, observe, update])\n",
    "\n",
    "def Simulation(n, p_e, p_i, p_r, steps):\n",
    "    n = n\n",
    "    p_e = p_e\n",
    "    p_i = p_i\n",
    "    p_r = p_i\n",
    "    step_list = [step+1 for step in range(steps)]\n",
    "    infected_rates = []\n",
    "    initialize(n, p_e)\n",
    "    for step in range(steps):\n",
    "        update(p_i, p_r)\n",
    "        infected_rates.append(dynamics(n))\n",
    "    return step_list, infected_rates\n",
    "sim1 = Simulation(100, 0.1, 0.5, 0.5, 1000)\n",
    "sim2 = Simulation(100, 0.1, 0.04, 0.5, 1000)\n",
    "sim3 = Simulation(200, 0.1, 0.04, 0.5, 1000)\n",
    "sim4 = Simulation(200, 0.05, 0.04, 0.5, 1000)\n",
    "plt.plot(sim1[0], sim1[1], color=\"red\", label=\"sim1\")\n",
    "plt.plot(sim2[0], sim2[1], color=\"blue\",label=\"sim2\")\n",
    "plt.plot(sim3[0], sim3[1], color=\"green\", label=\"sim3\")\n",
    "plt.plot(sim4[0], sim4[1], color=\"yellow\", label=\"sim4\")\n",
    "plt.title(\"Dynamics of Erdos Renyi network\")\n",
    "plt.xlabel(\"Steps\")\n",
    "plt.ylabel(\"Infected rate\")\n",
    "plt.legend()\n",
    "plt.show()"
   ]
  },
  {
   "cell_type": "code",
   "execution_count": 34,
   "metadata": {},
   "outputs": [
    {
     "name": "stdout",
     "output_type": "stream",
     "text": [
      "40.596 40.0 39.2\n",
      "41.68292442605183 40.3733 61.456683673469385\n"
     ]
    }
   ],
   "source": [
    "# part 2\n",
    "n = 1000\n",
    "m = 20000\n",
    "p = 2*m / (n*(n-1))\n",
    "g1 = nx.erdos_renyi_graph(n, p)\n",
    "g2 = nx.watts_strogatz_graph(n, int(2*m/n), 0.5)\n",
    "g3 = nx.barabasi_albert_graph(n, int(m/n))\n",
    "\n",
    "def average_degree(g):\n",
    "    degrees = 0\n",
    "    for node in (list(g.nodes)):\n",
    "        degrees += g.degree[node]\n",
    "    ave_degree = degrees / n\n",
    "    return ave_degree\n",
    "print(average_degree(g1), average_degree(g2), average_degree(g3))\n",
    "\n",
    "def ave_degree_neighbor(g):\n",
    "    degrees = 0\n",
    "    tot_neigh = 0\n",
    "    for node in (list(g.nodes)):\n",
    "        for neigh in list(g.neighbors(node)):\n",
    "            degrees += g.degree[neigh]\n",
    "        tot_neigh += len(list(g.neighbors(node)))\n",
    "    ave_degree_neighbor = degrees / tot_neigh\n",
    "    return ave_degree_neighbor\n",
    "print(ave_degree_neighbor(g1), ave_degree_neighbor(g2), ave_degree_neighbor(g3))"
   ]
  },
  {
   "cell_type": "code",
   "execution_count": null,
   "metadata": {},
   "outputs": [],
   "source": []
  }
 ],
 "metadata": {
  "kernelspec": {
   "display_name": "Python 3",
   "language": "python",
   "name": "python3"
  },
  "language_info": {
   "codemirror_mode": {
    "name": "ipython",
    "version": 3
   },
   "file_extension": ".py",
   "mimetype": "text/x-python",
   "name": "python",
   "nbconvert_exporter": "python",
   "pygments_lexer": "ipython3",
   "version": "3.6.8"
  }
 },
 "nbformat": 4,
 "nbformat_minor": 2
}
