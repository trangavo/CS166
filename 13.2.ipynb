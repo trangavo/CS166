{
 "cells": [
  {
   "cell_type": "code",
   "execution_count": 8,
   "metadata": {},
   "outputs": [
    {
     "data": {
      "image/png": "[encoded data removed]",
      "text/plain": [
       "<Figure size 432x288 with 1 Axes>"
      ]
     },
     "metadata": {},
     "output_type": "display_data"
    },
    {
     "name": "stdout",
     "output_type": "stream",
     "text": [
      "95% CI is: [101.3190832957579, 616.6558178895617]\n"
     ]
    }
   ],
   "source": [
    "import random\n",
    "import numpy as np\n",
    "import matplotlib.pyplot as plt\n",
    "dist = []\n",
    "def biasedcoin(s):\n",
    "    t = 0\n",
    "    while s > 0 and t < 20:\n",
    "        for i in range(3):\n",
    "            t += 1\n",
    "            if random.random() < 0.6:\n",
    "                s += 0.1*s\n",
    "            else:\n",
    "                s -= 0.1*s\n",
    "        for j in range(2):\n",
    "            t += 1\n",
    "            if random.random() < 0.4:\n",
    "                s += 0.1*s\n",
    "            else:\n",
    "                s -= 0.1*s\n",
    "    return s\n",
    "for i in range(1000):\n",
    "    dist.append(biasedcoin(250))\n",
    "u = np.percentile(dist, 97.5)\n",
    "l = np.percentile(dist, 2.5)\n",
    "plt.hist(dist)\n",
    "plt.show()\n",
    "print(\"95% CI is: \" + str([l, u]))\n"
   ]
  },
  {
   "cell_type": "code",
   "execution_count": null,
   "metadata": {},
   "outputs": [],
   "source": []
  }
 ],
 "metadata": {
  "kernelspec": {
   "display_name": "Python 3",
   "language": "python",
   "name": "python3"
  },
  "language_info": {
   "codemirror_mode": {
    "name": "ipython",
    "version": 3
   },
   "file_extension": ".py",
   "mimetype": "text/x-python",
   "name": "python",
   "nbconvert_exporter": "python",
   "pygments_lexer": "ipython3",
   "version": "3.6.8"
  }
 },
 "nbformat": 4,
 "nbformat_minor": 2
}
